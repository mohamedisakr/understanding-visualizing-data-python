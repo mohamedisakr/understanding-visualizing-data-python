{
 "cells": [
  {
   "cell_type": "code",
   "execution_count": 9,
   "id": "c30138ff",
   "metadata": {},
   "outputs": [],
   "source": [
    "import numpy as np\n",
    "import pandas as pd\n",
    "import matplotlib.pyplot as plt\n",
    "import seaborn as sns"
   ]
  },
  {
   "cell_type": "code",
   "execution_count": 2,
   "id": "c3f1f1b9",
   "metadata": {},
   "outputs": [],
   "source": [
    "dataset = pd.read_csv(\"cartwheel.csv\")"
   ]
  },
  {
   "cell_type": "code",
   "execution_count": 8,
   "id": "c3b19b39",
   "metadata": {},
   "outputs": [
    {
     "data": {
      "text/html": [
       "<div>\n",
       "<style scoped>\n",
       "    .dataframe tbody tr th:only-of-type {\n",
       "        vertical-align: middle;\n",
       "    }\n",
       "\n",
       "    .dataframe tbody tr th {\n",
       "        vertical-align: top;\n",
       "    }\n",
       "\n",
       "    .dataframe thead th {\n",
       "        text-align: right;\n",
       "    }\n",
       "</style>\n",
       "<table border=\"1\" class=\"dataframe\">\n",
       "  <thead>\n",
       "    <tr style=\"text-align: right;\">\n",
       "      <th></th>\n",
       "      <th>ID</th>\n",
       "      <th>Age</th>\n",
       "      <th>Gender</th>\n",
       "      <th>GenderGroup</th>\n",
       "      <th>Glasses</th>\n",
       "      <th>GlassesGroup</th>\n",
       "      <th>Height</th>\n",
       "      <th>Wingspan</th>\n",
       "      <th>CWDistance</th>\n",
       "      <th>Complete</th>\n",
       "      <th>CompleteGroup</th>\n",
       "      <th>Score</th>\n",
       "    </tr>\n",
       "  </thead>\n",
       "  <tbody>\n",
       "    <tr>\n",
       "      <th>0</th>\n",
       "      <td>1</td>\n",
       "      <td>56</td>\n",
       "      <td>F</td>\n",
       "      <td>1</td>\n",
       "      <td>Y</td>\n",
       "      <td>1</td>\n",
       "      <td>62.0</td>\n",
       "      <td>61.0</td>\n",
       "      <td>79</td>\n",
       "      <td>Y</td>\n",
       "      <td>1</td>\n",
       "      <td>7</td>\n",
       "    </tr>\n",
       "    <tr>\n",
       "      <th>1</th>\n",
       "      <td>2</td>\n",
       "      <td>26</td>\n",
       "      <td>F</td>\n",
       "      <td>1</td>\n",
       "      <td>Y</td>\n",
       "      <td>1</td>\n",
       "      <td>62.0</td>\n",
       "      <td>60.0</td>\n",
       "      <td>70</td>\n",
       "      <td>Y</td>\n",
       "      <td>1</td>\n",
       "      <td>8</td>\n",
       "    </tr>\n",
       "  </tbody>\n",
       "</table>\n",
       "</div>"
      ],
      "text/plain": [
       "   ID  Age Gender  GenderGroup Glasses  GlassesGroup  Height  Wingspan  \\\n",
       "0   1   56      F            1       Y             1    62.0      61.0   \n",
       "1   2   26      F            1       Y             1    62.0      60.0   \n",
       "\n",
       "   CWDistance Complete  CompleteGroup  Score  \n",
       "0          79        Y              1      7  \n",
       "1          70        Y              1      8  "
      ]
     },
     "execution_count": 8,
     "metadata": {},
     "output_type": "execute_result"
    }
   ],
   "source": [
    "dataset.head(2)"
   ]
  },
  {
   "cell_type": "markdown",
   "id": "632326db",
   "metadata": {},
   "source": [
    "#### Is the relationship between 'Height and Wingspan' linear? ==> YES"
   ]
  },
  {
   "cell_type": "code",
   "execution_count": 7,
   "id": "43237e39",
   "metadata": {},
   "outputs": [
    {
     "data": {
      "image/png": "[encoded data removed]",
      "text/plain": [
       "<Figure size 360x360 with 6 Axes>"
      ]
     },
     "metadata": {
      "needs_background": "light"
     },
     "output_type": "display_data"
    }
   ],
   "source": [
    "height_wingspan = dataset[['Height','Wingspan']]\n",
    "\n",
    "sns.pairplot(height_wingspan, kind=\"scatter\")\n",
    "plt.show()"
   ]
  },
  {
   "cell_type": "markdown",
   "id": "2e1f6286",
   "metadata": {},
   "source": [
    "#### cartwheel distance? "
   ]
  },
  {
   "cell_type": "code",
   "execution_count": 10,
   "id": "11835c0f",
   "metadata": {},
   "outputs": [],
   "source": [
    "##"
   ]
  },
  {
   "cell_type": "markdown",
   "id": "744995fd",
   "metadata": {},
   "source": [
    "#### Looking at the barplot of 'Glasses' and 'CWDistance' split by 'Gender', which glasses condition has a (slightly) larger estimate of cartwheel distance? Activate W Go to Settings\n",
    "\n",
    "#### The results are different for each gender."
   ]
  },
  {
   "cell_type": "code",
   "execution_count": 14,
   "id": "3182145c",
   "metadata": {},
   "outputs": [
    {
     "data": {
      "text/plain": [
       "<AxesSubplot:xlabel='Glasses', ylabel='CWDistance'>"
      ]
     },
     "execution_count": 14,
     "metadata": {},
     "output_type": "execute_result"
    },
    {
     "data": {
      "image/png": "[encoded data removed]",
      "text/plain": [
       "<Figure size 432x288 with 1 Axes>"
      ]
     },
     "metadata": {
      "needs_background": "light"
     },
     "output_type": "display_data"
    }
   ],
   "source": [
    "glasses_distance = dataset[['Glasses','CWDistance', 'Gender']]\n",
    "# glasses_distance.head()\n",
    "sns.barplot(data=glasses_distance, x=\"Glasses\", y=\"CWDistance\", hue=\"Gender\")"
   ]
  },
  {
   "cell_type": "code",
   "execution_count": null,
   "id": "20f5cf2c",
   "metadata": {},
   "outputs": [],
   "source": []
  }
 ],
 "metadata": {
  "kernelspec": {
   "display_name": "Python 3 (ipykernel)",
   "language": "python",
   "name": "python3"
  },
  "language_info": {
   "codemirror_mode": {
    "name": "ipython",
    "version": 3
   },
   "file_extension": ".py",
   "mimetype": "text/x-python",
   "name": "python",
   "nbconvert_exporter": "python",
   "pygments_lexer": "ipython3",
   "version": "3.9.12"
  }
 },
 "nbformat": 4,
 "nbformat_minor": 5
}
